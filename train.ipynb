{
 "cells": [
  {
   "cell_type": "code",
   "execution_count": 2,
   "id": "a1081eea",
   "metadata": {},
   "outputs": [],
   "source": [
    "import tensorflow as tf\n",
    "import matplotlib.pyplot as plt\n",
    "import pandas as pd\n",
    "import seaborn as sns"
   ]
  },
  {
   "cell_type": "markdown",
   "id": "00f2ee60",
   "metadata": {},
   "source": [
    "Data Preprocessing"
   ]
  },
  {
   "cell_type": "code",
   "execution_count": 3,
   "id": "559406f9",
   "metadata": {},
   "outputs": [
    {
     "name": "stdout",
     "output_type": "stream",
     "text": [
      "Found 70295 files belonging to 38 classes.\n"
     ]
    }
   ],
   "source": [
    "training_set = tf.keras.utils.image_dataset_from_directory(\n",
    "    'train',\n",
    "    labels=\"inferred\",\n",
    "    label_mode=\"categorical\",\n",
    "    class_names=None,\n",
    "    color_mode=\"rgb\",\n",
    "    batch_size=32,\n",
    "    image_size=(128, 128),\n",
    "    shuffle=True,\n",
    "    seed=None,\n",
    "    validation_split=None,\n",
    "    subset=None,\n",
    "    interpolation=\"bilinear\",\n",
    "    follow_links=False,\n",
    "    crop_to_aspect_ratio=False\n",
    ")"
   ]
  },
  {
   "cell_type": "markdown",
   "id": "1678d6ad",
   "metadata": {},
   "source": [
    "Validation Preporcessing"
   ]
  },
  {
   "cell_type": "code",
   "execution_count": 4,
   "id": "37011c16",
   "metadata": {},
   "outputs": [
    {
     "name": "stdout",
     "output_type": "stream",
     "text": [
      "Found 17572 files belonging to 38 classes.\n"
     ]
    }
   ],
   "source": [
    "validation_set = tf.keras.utils.image_dataset_from_directory(\n",
    "    'valid',\n",
    "    labels=\"inferred\",\n",
    "    label_mode=\"categorical\",\n",
    "    class_names=None,\n",
    "    color_mode=\"rgb\",\n",
    "    batch_size=32,\n",
    "    image_size=(128, 128),\n",
    "    shuffle=True,\n",
    "    seed=None,\n",
    "    validation_split=None,\n",
    "    subset=None,\n",
    "    interpolation=\"bilinear\",\n",
    "    follow_links=False,\n",
    "    crop_to_aspect_ratio=False\n",
    ")"
   ]
  },
  {
   "cell_type": "markdown",
   "id": "01707381",
   "metadata": {},
   "source": [
    "Model"
   ]
  },
  {
   "cell_type": "code",
   "execution_count": 5,
   "id": "f86d5d4b",
   "metadata": {},
   "outputs": [],
   "source": [
    "from tensorflow.keras.layers import Dense, Conv2D, MaxPool2D, Flatten\n",
    "from tensorflow.keras.models import Sequential\n"
   ]
  },
  {
   "cell_type": "code",
   "execution_count": 6,
   "id": "34ee0863",
   "metadata": {},
   "outputs": [],
   "source": [
    "model = Sequential()"
   ]
  },
  {
   "cell_type": "code",
   "execution_count": 7,
   "id": "9f50ac46",
   "metadata": {},
   "outputs": [],
   "source": [
    "##Convolution Layer"
   ]
  },
  {
   "cell_type": "code",
   "execution_count": 8,
   "id": "745771b5",
   "metadata": {},
   "outputs": [],
   "source": [
    "model.add(Conv2D(filters=32, kernel_size=3, padding='same', activation='relu', input_shape=[128,128,3]))\n",
    "model.add(Conv2D(filters=32, kernel_size=3, padding='same', activation='relu'))\n",
    "model.add(MaxPool2D(pool_size=2, strides=2, ))"
   ]
  },
  {
   "cell_type": "code",
   "execution_count": 9,
   "id": "4ada7e4e",
   "metadata": {},
   "outputs": [],
   "source": [
    "model.add(Conv2D(filters=64, kernel_size=3, padding='same', activation='relu', input_shape=[128,128,3]))\n",
    "model.add(Conv2D(filters=64, kernel_size=3, padding='same', activation='relu'))\n",
    "model.add(MaxPool2D(pool_size=2, strides=2, ))"
   ]
  },
  {
   "cell_type": "code",
   "execution_count": 10,
   "id": "d90492f5",
   "metadata": {},
   "outputs": [],
   "source": [
    "model.add(Conv2D(filters=128, kernel_size=3, padding='same', activation='relu', input_shape=[128,128,3]))\n",
    "model.add(Conv2D(filters=128, kernel_size=3, padding='same', activation='relu'))\n",
    "model.add(MaxPool2D(pool_size=2, strides=2, ))"
   ]
  },
  {
   "cell_type": "code",
   "execution_count": 11,
   "id": "27bd3403",
   "metadata": {},
   "outputs": [],
   "source": [
    "model.add(Conv2D(filters=256, kernel_size=3, padding='same', activation='relu', input_shape=[128,128,3]))\n",
    "model.add(Conv2D(filters=256, kernel_size=3, padding='same', activation='relu'))\n",
    "model.add(MaxPool2D(pool_size=2, strides=2, ))"
   ]
  },
  {
   "cell_type": "code",
   "execution_count": 12,
   "id": "47ac9aeb",
   "metadata": {},
   "outputs": [],
   "source": [
    "model.add(Flatten())"
   ]
  },
  {
   "cell_type": "code",
   "execution_count": 13,
   "id": "b69ff8a5",
   "metadata": {},
   "outputs": [],
   "source": [
    "model.add(Dense(units=1024, activation='relu'))"
   ]
  },
  {
   "cell_type": "code",
   "execution_count": 14,
   "id": "c6498c25",
   "metadata": {},
   "outputs": [],
   "source": [
    "#output\n",
    "model.add(Dense(units=38, activation='softmax')) #probability"
   ]
  },
  {
   "cell_type": "code",
   "execution_count": 15,
   "id": "9dd204f5",
   "metadata": {},
   "outputs": [],
   "source": [
    "model.compile(optimizer='adam', loss='categorical_crossentropy', metrics=['accuracy'])"
   ]
  },
  {
   "cell_type": "code",
   "execution_count": 16,
   "id": "d4dd8ccc",
   "metadata": {},
   "outputs": [
    {
     "name": "stdout",
     "output_type": "stream",
     "text": [
      "Model: \"sequential\"\n",
      "_________________________________________________________________\n",
      " Layer (type)                Output Shape              Param #   \n",
      "=================================================================\n",
      " conv2d (Conv2D)             (None, 128, 128, 32)      896       \n",
      "                                                                 \n",
      " conv2d_1 (Conv2D)           (None, 128, 128, 32)      9248      \n",
      "                                                                 \n",
      " max_pooling2d (MaxPooling2D  (None, 64, 64, 32)       0         \n",
      " )                                                               \n",
      "                                                                 \n",
      " conv2d_2 (Conv2D)           (None, 64, 64, 64)        18496     \n",
      "                                                                 \n",
      " conv2d_3 (Conv2D)           (None, 64, 64, 64)        36928     \n",
      "                                                                 \n",
      " max_pooling2d_1 (MaxPooling  (None, 32, 32, 64)       0         \n",
      " 2D)                                                             \n",
      "                                                                 \n",
      " conv2d_4 (Conv2D)           (None, 32, 32, 128)       73856     \n",
      "                                                                 \n",
      " conv2d_5 (Conv2D)           (None, 32, 32, 128)       147584    \n",
      "                                                                 \n",
      " max_pooling2d_2 (MaxPooling  (None, 16, 16, 128)      0         \n",
      " 2D)                                                             \n",
      "                                                                 \n",
      " conv2d_6 (Conv2D)           (None, 16, 16, 256)       295168    \n",
      "                                                                 \n",
      " conv2d_7 (Conv2D)           (None, 16, 16, 256)       590080    \n",
      "                                                                 \n",
      " max_pooling2d_3 (MaxPooling  (None, 8, 8, 256)        0         \n",
      " 2D)                                                             \n",
      "                                                                 \n",
      " flatten (Flatten)           (None, 16384)             0         \n",
      "                                                                 \n",
      " dense (Dense)               (None, 1024)              16778240  \n",
      "                                                                 \n",
      " dense_1 (Dense)             (None, 38)                38950     \n",
      "                                                                 \n",
      "=================================================================\n",
      "Total params: 17,989,446\n",
      "Trainable params: 17,989,446\n",
      "Non-trainable params: 0\n",
      "_________________________________________________________________\n"
     ]
    }
   ],
   "source": [
    "model.summary()"
   ]
  },
  {
   "cell_type": "markdown",
   "id": "6356a05c",
   "metadata": {},
   "source": [
    "Training"
   ]
  },
  {
   "cell_type": "code",
   "execution_count": 17,
   "id": "471e8c5b",
   "metadata": {},
   "outputs": [
    {
     "name": "stdout",
     "output_type": "stream",
     "text": [
      "Epoch 1/10\n",
      "2197/2197 [==============================] - 258s 111ms/step - loss: 1.1868 - accuracy: 0.6589 - val_loss: 0.4636 - val_accuracy: 0.8516\n",
      "Epoch 2/10\n",
      "2197/2197 [==============================] - 241s 110ms/step - loss: 0.3344 - accuracy: 0.8909 - val_loss: 0.3785 - val_accuracy: 0.8764\n",
      "Epoch 3/10\n",
      "2197/2197 [==============================] - 371s 169ms/step - loss: 0.2272 - accuracy: 0.9250 - val_loss: 0.2884 - val_accuracy: 0.9112\n",
      "Epoch 4/10\n",
      "2197/2197 [==============================] - 701s 319ms/step - loss: 0.1760 - accuracy: 0.9410 - val_loss: 0.2789 - val_accuracy: 0.9178\n",
      "Epoch 5/10\n",
      "2197/2197 [==============================] - 1276s 576ms/step - loss: 0.1552 - accuracy: 0.9489 - val_loss: 0.2683 - val_accuracy: 0.9170\n",
      "Epoch 6/10\n",
      "2197/2197 [==============================] - 400s 182ms/step - loss: 0.1366 - accuracy: 0.9543 - val_loss: 0.3497 - val_accuracy: 0.9064\n",
      "Epoch 7/10\n",
      "2197/2197 [==============================] - 308s 140ms/step - loss: 0.1290 - accuracy: 0.9584 - val_loss: 0.3068 - val_accuracy: 0.9188\n",
      "Epoch 8/10\n",
      "2197/2197 [==============================] - 265s 120ms/step - loss: 0.1250 - accuracy: 0.9599 - val_loss: 0.2805 - val_accuracy: 0.9260\n",
      "Epoch 9/10\n",
      "2197/2197 [==============================] - 207s 94ms/step - loss: 0.1186 - accuracy: 0.9619 - val_loss: 0.3077 - val_accuracy: 0.9168\n",
      "Epoch 10/10\n",
      "2197/2197 [==============================] - 205s 93ms/step - loss: 0.1240 - accuracy: 0.9606 - val_loss: 0.2820 - val_accuracy: 0.9232\n"
     ]
    }
   ],
   "source": [
    "training_history= model.fit(x=training_set, validation_data=validation_set,epochs=10)"
   ]
  },
  {
   "cell_type": "code",
   "execution_count": 22,
   "id": "84f2a5d7",
   "metadata": {},
   "outputs": [
    {
     "name": "stdout",
     "output_type": "stream",
     "text": [
      "2197/2197 [==============================] - 60s 27ms/step - loss: 0.0940 - accuracy: 0.9691\n"
     ]
    }
   ],
   "source": [
    "#eval\n",
    "training_loss, training_accuracy = model.evaluate(training_set)"
   ]
  },
  {
   "cell_type": "code",
   "execution_count": 19,
   "id": "a8547f0b",
   "metadata": {},
   "outputs": [
    {
     "name": "stdout",
     "output_type": "stream",
     "text": [
      "0.09399065375328064 0.969144344329834\n"
     ]
    }
   ],
   "source": [
    "print(training_loss, training_accuracy)"
   ]
  },
  {
   "cell_type": "code",
   "execution_count": 21,
   "id": "26ca59cd",
   "metadata": {},
   "outputs": [
    {
     "name": "stdout",
     "output_type": "stream",
     "text": [
      "550/550 [==============================] - 15s 27ms/step - loss: 0.2820 - accuracy: 0.9232\n"
     ]
    }
   ],
   "source": [
    "#eval\n",
    "val_loss, val_accuracy = model.evaluate(validation_set) "
   ]
  },
  {
   "cell_type": "code",
   "execution_count": 23,
   "id": "151f146b",
   "metadata": {},
   "outputs": [
    {
     "name": "stdout",
     "output_type": "stream",
     "text": [
      "0.28196442127227783 0.9231732487678528\n"
     ]
    }
   ],
   "source": [
    "print(val_loss, val_accuracy)"
   ]
  },
  {
   "cell_type": "code",
   "execution_count": 25,
   "id": "def393fc",
   "metadata": {},
   "outputs": [],
   "source": [
    "model.save(\"trained_model.keras\")"
   ]
  },
  {
   "cell_type": "code",
   "execution_count": 26,
   "id": "7b23b892",
   "metadata": {},
   "outputs": [
    {
     "data": {
      "text/plain": [
       "{'loss': [1.1867834329605103,\n",
       "  0.33441242575645447,\n",
       "  0.22723649442195892,\n",
       "  0.17595525085926056,\n",
       "  0.15524518489837646,\n",
       "  0.13656792044639587,\n",
       "  0.12902261316776276,\n",
       "  0.12504327297210693,\n",
       "  0.1186172291636467,\n",
       "  0.12398238480091095],\n",
       " 'accuracy': [0.6589089035987854,\n",
       "  0.8909168243408203,\n",
       "  0.9250444769859314,\n",
       "  0.9410200119018555,\n",
       "  0.9489437341690063,\n",
       "  0.9543352723121643,\n",
       "  0.9583612084388733,\n",
       "  0.9599260091781616,\n",
       "  0.9618892073631287,\n",
       "  0.9606373310089111],\n",
       " 'val_loss': [0.46360087394714355,\n",
       "  0.37849700450897217,\n",
       "  0.28836846351623535,\n",
       "  0.27887415885925293,\n",
       "  0.26826342940330505,\n",
       "  0.34973081946372986,\n",
       "  0.3067707419395447,\n",
       "  0.28050434589385986,\n",
       "  0.30774468183517456,\n",
       "  0.28196457028388977],\n",
       " 'val_accuracy': [0.8516389727592468,\n",
       "  0.8763942718505859,\n",
       "  0.9111654758453369,\n",
       "  0.9178237915039062,\n",
       "  0.9170271158218384,\n",
       "  0.9064420461654663,\n",
       "  0.9188481569290161,\n",
       "  0.9260186553001404,\n",
       "  0.9167994260787964,\n",
       "  0.9231732487678528]}"
      ]
     },
     "execution_count": 26,
     "metadata": {},
     "output_type": "execute_result"
    }
   ],
   "source": [
    "training_history.history"
   ]
  },
  {
   "cell_type": "code",
   "execution_count": 27,
   "id": "2e78118a",
   "metadata": {},
   "outputs": [],
   "source": [
    "#recordiing\n",
    "import json\n",
    "with open(\"training_hist.json\", \"w\") as f:\n",
    "    json.dump(training_history.history, f)"
   ]
  },
  {
   "cell_type": "markdown",
   "id": "90e8a0af",
   "metadata": {},
   "source": [
    "Visualization"
   ]
  },
  {
   "cell_type": "code",
   "execution_count": 32,
   "id": "cdd9d888",
   "metadata": {},
   "outputs": [
    {
     "data": {
      "image/png": "[encoded data removed]",
      "text/plain": [
       "<Figure size 640x480 with 1 Axes>"
      ]
     },
     "metadata": {},
     "output_type": "display_data"
    }
   ],
   "source": [
    "epochs = [i for i in range (1,11)]\n",
    "epochs\n",
    "plt.plot(epochs, training_history.history['accuracy'], label='training_accuracy')\n",
    "plt.plot(epochs, training_history.history['val_accuracy'], label='val_accuracy', color='red')\n",
    "plt.legend()\n",
    "plt.show()"
   ]
  },
  {
   "cell_type": "code",
   "execution_count": 43,
   "id": "9c01ddb7",
   "metadata": {},
   "outputs": [],
   "source": [
    "class_name = validation_set.class_names"
   ]
  },
  {
   "cell_type": "code",
   "execution_count": 33,
   "id": "89116bda",
   "metadata": {},
   "outputs": [
    {
     "name": "stdout",
     "output_type": "stream",
     "text": [
      "Found 17572 files belonging to 38 classes.\n"
     ]
    }
   ],
   "source": [
    "test_set = tf.keras.utils.image_dataset_from_directory(\n",
    "    'valid',\n",
    "    labels=\"inferred\",\n",
    "    label_mode=\"categorical\",\n",
    "    class_names=None,\n",
    "    color_mode=\"rgb\",\n",
    "    batch_size=32,\n",
    "    image_size=(128, 128),\n",
    "    shuffle=False,\n",
    "    seed=None,\n",
    "    validation_split=None,\n",
    "    subset=None,\n",
    "    interpolation=\"bilinear\",\n",
    "    follow_links=False,\n",
    "    crop_to_aspect_ratio=False\n",
    ")"
   ]
  },
  {
   "cell_type": "code",
   "execution_count": 35,
   "id": "05799687",
   "metadata": {},
   "outputs": [
    {
     "name": "stdout",
     "output_type": "stream",
     "text": [
      "550/550 [==============================] - 14s 25ms/step\n"
     ]
    },
    {
     "data": {
      "text/plain": [
       "(array([[9.9999356e-01, 1.6276967e-07, 1.6552230e-08, ..., 9.3876003e-13,\n",
       "         4.4574754e-11, 9.7903694e-09],\n",
       "        [9.9936277e-01, 6.3663209e-04, 2.9632632e-09, ..., 9.8488946e-18,\n",
       "         1.9046138e-11, 1.3519895e-13],\n",
       "        [9.9998760e-01, 3.3696829e-10, 1.6431227e-07, ..., 1.3769212e-15,\n",
       "         2.4556999e-11, 1.7442324e-09],\n",
       "        ...,\n",
       "        [2.5879670e-14, 1.9420236e-22, 3.1997367e-11, ..., 1.9045221e-12,\n",
       "         2.6481185e-16, 9.9999964e-01],\n",
       "        [2.0745018e-15, 1.1769580e-23, 2.7686177e-16, ..., 4.2046178e-16,\n",
       "         1.6584375e-20, 1.0000000e+00],\n",
       "        [8.4459774e-20, 4.7032647e-19, 4.9827302e-17, ..., 6.8382611e-16,\n",
       "         2.0971436e-16, 9.9999523e-01]], dtype=float32),\n",
       " (17572, 38))"
      ]
     },
     "execution_count": 35,
     "metadata": {},
     "output_type": "execute_result"
    }
   ],
   "source": [
    "y_pred = model.predict(test_set)\n",
    "y_pred, y_pred.shape"
   ]
  },
  {
   "cell_type": "code",
   "execution_count": 36,
   "id": "46ac66c4",
   "metadata": {},
   "outputs": [
    {
     "data": {
      "text/plain": [
       "<tf.Tensor: shape=(17572,), dtype=int64, numpy=array([ 0,  0,  0, ..., 37, 37, 37], dtype=int64)>"
      ]
     },
     "execution_count": 36,
     "metadata": {},
     "output_type": "execute_result"
    }
   ],
   "source": [
    "predicted_categories = tf.argmax(y_pred, axis=1)\n",
    "predicted_categories"
   ]
  },
  {
   "cell_type": "code",
   "execution_count": 37,
   "id": "a7dfad3c",
   "metadata": {},
   "outputs": [
    {
     "data": {
      "text/plain": [
       "<tf.Tensor: shape=(17572, 38), dtype=float32, numpy=\n",
       "array([[1., 0., 0., ..., 0., 0., 0.],\n",
       "       [1., 0., 0., ..., 0., 0., 0.],\n",
       "       [1., 0., 0., ..., 0., 0., 0.],\n",
       "       ...,\n",
       "       [0., 0., 0., ..., 0., 0., 1.],\n",
       "       [0., 0., 0., ..., 0., 0., 1.],\n",
       "       [0., 0., 0., ..., 0., 0., 1.]], dtype=float32)>"
      ]
     },
     "execution_count": 37,
     "metadata": {},
     "output_type": "execute_result"
    }
   ],
   "source": [
    "true_categories = tf.concat([y for x,y in test_set], axis=0)\n",
    "true_categories"
   ]
  },
  {
   "cell_type": "code",
   "execution_count": 39,
   "id": "9f8e28bd",
   "metadata": {},
   "outputs": [
    {
     "data": {
      "text/plain": [
       "<tf.Tensor: shape=(17572,), dtype=int64, numpy=array([ 0,  0,  0, ..., 37, 37, 37], dtype=int64)>"
      ]
     },
     "execution_count": 39,
     "metadata": {},
     "output_type": "execute_result"
    }
   ],
   "source": [
    "Y_true = tf.argmax(true_categories,axis=1)\n",
    "Y_true"
   ]
  },
  {
   "cell_type": "code",
   "execution_count": 40,
   "id": "5d893978",
   "metadata": {},
   "outputs": [],
   "source": [
    "from sklearn.metrics import classification_report"
   ]
  },
  {
   "cell_type": "code",
   "execution_count": 44,
   "id": "c46e6222",
   "metadata": {},
   "outputs": [
    {
     "name": "stdout",
     "output_type": "stream",
     "text": [
      "                                                    precision    recall  f1-score   support\n",
      "\n",
      "                                Apple___Apple_scab       0.96      0.87      0.91       504\n",
      "                                 Apple___Black_rot       0.97      0.95      0.96       497\n",
      "                          Apple___Cedar_apple_rust       0.97      0.88      0.92       440\n",
      "                                   Apple___healthy       0.87      0.93      0.90       502\n",
      "                               Blueberry___healthy       0.94      0.95      0.95       454\n",
      "          Cherry_(including_sour)___Powdery_mildew       0.99      0.94      0.97       421\n",
      "                 Cherry_(including_sour)___healthy       0.93      0.98      0.95       456\n",
      "Corn_(maize)___Cercospora_leaf_spot Gray_leaf_spot       0.87      0.92      0.89       410\n",
      "                       Corn_(maize)___Common_rust_       0.98      0.99      0.99       477\n",
      "               Corn_(maize)___Northern_Leaf_Blight       0.94      0.89      0.91       477\n",
      "                            Corn_(maize)___healthy       0.99      1.00      0.99       465\n",
      "                                 Grape___Black_rot       0.92      0.96      0.94       472\n",
      "                      Grape___Esca_(Black_Measles)       0.96      0.98      0.97       480\n",
      "        Grape___Leaf_blight_(Isariopsis_Leaf_Spot)       0.99      0.97      0.98       430\n",
      "                                   Grape___healthy       1.00      0.95      0.97       423\n",
      "          Orange___Haunglongbing_(Citrus_greening)       0.96      0.99      0.97       503\n",
      "                            Peach___Bacterial_spot       0.89      0.91      0.90       459\n",
      "                                   Peach___healthy       0.98      0.89      0.94       432\n",
      "                     Pepper,_bell___Bacterial_spot       0.81      0.95      0.87       478\n",
      "                            Pepper,_bell___healthy       0.91      0.88      0.90       497\n",
      "                             Potato___Early_blight       0.93      0.98      0.95       485\n",
      "                              Potato___Late_blight       0.93      0.90      0.91       485\n",
      "                                  Potato___healthy       0.94      0.81      0.87       456\n",
      "                               Raspberry___healthy       0.93      0.93      0.93       445\n",
      "                                 Soybean___healthy       0.92      0.93      0.93       505\n",
      "                           Squash___Powdery_mildew       0.98      0.93      0.96       434\n",
      "                          Strawberry___Leaf_scorch       0.99      0.94      0.96       444\n",
      "                              Strawberry___healthy       0.98      0.97      0.97       456\n",
      "                           Tomato___Bacterial_spot       0.83      0.96      0.89       425\n",
      "                             Tomato___Early_blight       0.81      0.82      0.81       480\n",
      "                              Tomato___Late_blight       0.87      0.81      0.84       463\n",
      "                                Tomato___Leaf_Mold       0.85      0.89      0.87       470\n",
      "                       Tomato___Septoria_leaf_spot       0.77      0.85      0.81       436\n",
      "     Tomato___Spider_mites Two-spotted_spider_mite       0.93      0.86      0.89       435\n",
      "                              Tomato___Target_Spot       0.84      0.87      0.86       457\n",
      "            Tomato___Tomato_Yellow_Leaf_Curl_Virus       0.95      0.96      0.96       490\n",
      "                      Tomato___Tomato_mosaic_virus       1.00      0.91      0.95       448\n",
      "                                  Tomato___healthy       0.92      0.97      0.95       481\n",
      "\n",
      "                                          accuracy                           0.92     17572\n",
      "                                         macro avg       0.93      0.92      0.92     17572\n",
      "                                      weighted avg       0.93      0.92      0.92     17572\n",
      "\n"
     ]
    }
   ],
   "source": [
    "print(classification_report(Y_true,   predicted_categories,target_names=class_name))"
   ]
  },
  {
   "cell_type": "code",
   "execution_count": null,
   "id": "6f94a57f",
   "metadata": {},
   "outputs": [],
   "source": []
  }
 ],
 "metadata": {
  "kernelspec": {
   "display_name": "tens_env",
   "language": "python",
   "name": "python3"
  },
  "language_info": {
   "codemirror_mode": {
    "name": "ipython",
    "version": 3
   },
   "file_extension": ".py",
   "mimetype": "text/x-python",
   "name": "python",
   "nbconvert_exporter": "python",
   "pygments_lexer": "ipython3",
   "version": "3.10.18"
  }
 },
 "nbformat": 4,
 "nbformat_minor": 5
}
